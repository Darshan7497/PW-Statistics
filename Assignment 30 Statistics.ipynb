{
 "cells": [
  {
   "cell_type": "markdown",
   "id": "a65e2f56-36c8-48ad-ba7e-427161a45caf",
   "metadata": {},
   "source": [
    "# Q1. What are the three measures of central tendency?"
   ]
  },
  {
   "cell_type": "markdown",
   "id": "462d1487-2376-47b4-acb6-6d8ddbcb1ffe",
   "metadata": {},
   "source": [
    "The three measures of central tendency are:\n",
    "\n",
    "Mean: It is the sum of all the values in a dataset divided by the total number of values.\n",
    "\n",
    "Median: It is the middle value in a dataset when the values are arranged in order. If there is an even number of values, the median is the average of the two middle values.\n",
    "\n",
    "Mode: It is the value that occurs most frequently in a dataset. A dataset can have one mode, more than one mode, or no mode at all."
   ]
  },
  {
   "cell_type": "markdown",
   "id": "7f335711-144f-465f-852c-75a0de0db31c",
   "metadata": {},
   "source": [
    "# Q2. What is the difference between the mean, median, and mode? How are they used to measure the central tendency of a dataset?"
   ]
  },
  {
   "cell_type": "markdown",
   "id": "746939c1-2491-4026-9efb-a8e82de8504d",
   "metadata": {},
   "source": [
    "The mean, median, and mode are measures of central tendency used to describe the middle or center of a set of data.\n",
    "\n",
    "The mean is calculated by summing all the values in a dataset and dividing by the total number of observations. It represents the average value of the data and can be affected by extreme values or outliers.\n",
    "\n",
    "The median is the middle value of a dataset when it is arranged in ascending or descending order. It is less affected by extreme values than the mean and is a better measure of central tendency for skewed data.\n",
    "\n",
    "The mode is the value that appears most frequently in a dataset. It is used when the data has a large number of repeating values and can be used for both categorical and numerical data.\n",
    "\n",
    "The choice of measure of central tendency depends on the type and distribution of the data. For symmetrical data, the mean and median are similar, and either can be used. For skewed data, the median is often preferred. The mode is used when the data has a categorical variable or when it is necessary to identify the most common value."
   ]
  },
  {
   "cell_type": "markdown",
   "id": "e73864fb-c6a2-4ab5-92cf-0a5def4435bd",
   "metadata": {},
   "source": [
    "# Q3. Measure the three measures of central tendency for the given height data:\n",
    "[178,177,176,177,178.2,178,175,179,180,175,178.9,176.2,177,172.5,178,176.5]"
   ]
  },
  {
   "cell_type": "code",
   "execution_count": 1,
   "id": "366ae2b5-8f6a-4596-b19f-b4f9804175cc",
   "metadata": {},
   "outputs": [],
   "source": [
    "import numpy as np"
   ]
  },
  {
   "cell_type": "code",
   "execution_count": 2,
   "id": "11a37baa-3f62-42d2-b336-2cc1e2480fb0",
   "metadata": {},
   "outputs": [],
   "source": [
    "height = [178,177,176,177,178.2,178,175,179,180,175,178.9,176.2,177,172.5,178,176.5]"
   ]
  },
  {
   "cell_type": "code",
   "execution_count": 3,
   "id": "e14f4da2-6465-4ed3-b63a-f573c0637cc8",
   "metadata": {},
   "outputs": [
    {
     "data": {
      "text/plain": [
       "177.01875"
      ]
     },
     "execution_count": 3,
     "metadata": {},
     "output_type": "execute_result"
    }
   ],
   "source": [
    "np.mean(height)"
   ]
  },
  {
   "cell_type": "code",
   "execution_count": 5,
   "id": "cad1c195-b4d1-4e72-85c2-8018aa10608c",
   "metadata": {},
   "outputs": [
    {
     "data": {
      "text/plain": [
       "177.0"
      ]
     },
     "execution_count": 5,
     "metadata": {},
     "output_type": "execute_result"
    }
   ],
   "source": [
    "np.median(height)"
   ]
  },
  {
   "cell_type": "code",
   "execution_count": 8,
   "id": "75a25b41-6b16-46ed-ab60-302657db9aa7",
   "metadata": {},
   "outputs": [
    {
     "name": "stderr",
     "output_type": "stream",
     "text": [
      "/tmp/ipykernel_77/3846226869.py:2: FutureWarning: Unlike other reduction functions (e.g. `skew`, `kurtosis`), the default behavior of `mode` typically preserves the axis it acts along. In SciPy 1.11.0, this behavior will change: the default value of `keepdims` will become False, the `axis` over which the statistic is taken will be eliminated, and the value None will no longer be accepted. Set `keepdims` to True or False to avoid this warning.\n",
      "  stats.mode(height)\n"
     ]
    },
    {
     "data": {
      "text/plain": [
       "ModeResult(mode=array([177.]), count=array([3]))"
      ]
     },
     "execution_count": 8,
     "metadata": {},
     "output_type": "execute_result"
    }
   ],
   "source": [
    "from scipy import stats\n",
    "stats.mode(height)"
   ]
  },
  {
   "cell_type": "markdown",
   "id": "0b548315-5a37-4623-8368-38252eb04699",
   "metadata": {},
   "source": [
    "# Q4. Find the standard deviation for the given data:\n",
    "[178,177,176,177,178.2,178,175,179,180,175,178.9,176.2,177,172.5,178,176.5]"
   ]
  },
  {
   "cell_type": "code",
   "execution_count": 10,
   "id": "ba91be0c-f6e4-4bf8-a271-7537750a4950",
   "metadata": {},
   "outputs": [
    {
     "data": {
      "text/plain": [
       "1.7885814036548633"
      ]
     },
     "execution_count": 10,
     "metadata": {},
     "output_type": "execute_result"
    }
   ],
   "source": [
    "np.std(height)"
   ]
  },
  {
   "cell_type": "markdown",
   "id": "dc008736-46d4-41b4-9ae0-fbf6a36eb00c",
   "metadata": {},
   "source": [
    "# Q5. How are measures of dispersion such as range, variance, and standard deviation used to describe the spread of a dataset? Provide an example."
   ]
  },
  {
   "cell_type": "markdown",
   "id": "94c208a1-6fed-444b-9097-7af6453ee47f",
   "metadata": {},
   "source": [
    "Measures of dispersion, such as range, variance, and standard deviation, provide information about how spread out a dataset is.\n",
    "\n",
    "Range: It is the simplest measure of dispersion that calculates the difference between the maximum and minimum values in the dataset. It gives an idea about the spread of the dataset. However, it is sensitive to outliers and does not give much information about the distribution of the data. For example, the range of the heights of students in a class can be calculated as the difference between the tallest and shortest students.\n",
    "\n",
    "Variance: It measures how much the individual data points deviate from the mean of the dataset. It is calculated by taking the sum of the squared differences between each data point and the mean and dividing by the number of data points. A higher variance indicates more spread out data. For example, the variance of the scores of students in a test can be used to measure how much the scores are spread out from the average score.\n",
    "\n",
    "Standard deviation: It is the square root of the variance and provides a measure of the spread of the data relative to the mean. A higher standard deviation indicates more variation or spread in the data. For example, the standard deviation of the salaries of employees in a company can be used to measure the spread of salaries around the average salary."
   ]
  },
  {
   "cell_type": "markdown",
   "id": "af4ed64f-ce00-458f-ae1f-1e53ca8ccfb6",
   "metadata": {},
   "source": [
    "# Q6. What is a Venn diagram?"
   ]
  },
  {
   "cell_type": "markdown",
   "id": "e5a1b8a9-f21b-43be-b6be-2338a1b3adae",
   "metadata": {},
   "source": [
    "A Venn diagram is a graphical representation of sets or groups. It consists of circles or other shapes that overlap and represent the relationships between different sets or groups. The overlapping regions of the circles represent the elements that are common to more than one set or group, while the non-overlapping regions represent the elements that are unique to each set or group. Venn diagrams are often used in mathematics, logic, statistics, and other fields to visually illustrate relationships between different sets or groups."
   ]
  },
  {
   "cell_type": "markdown",
   "id": "2a63c9bc-6098-43a3-80a5-82ad92f83ec4",
   "metadata": {},
   "source": [
    "# Q7. For the two given sets A = (2,3,4,5,6,7) & B = (0,2,6,8,10). Find:\n"
   ]
  },
  {
   "cell_type": "code",
   "execution_count": null,
   "id": "053b0f9e-d71f-41cd-9b07-0686c704138a",
   "metadata": {},
   "outputs": [],
   "source": [
    "(i) A B    = (2,6)\n",
    "(ii) A ⋃ B =  (0,2,3,4,5,6,7,8,10)"
   ]
  },
  {
   "cell_type": "markdown",
   "id": "fc31ebce-7590-47c3-b080-4267df05fa5e",
   "metadata": {},
   "source": [
    "# Q8. What do you understand about skewness in data?"
   ]
  },
  {
   "cell_type": "markdown",
   "id": "d9c18e06-e8a5-40ee-9725-2c960c6775de",
   "metadata": {},
   "source": [
    "Skewness is a measure of the asymmetry of a probability distribution. It can be used to determine the extent to which a distribution differs from a normal distribution.\n",
    "\n",
    "When a distribution is skewed, it means that the majority of the data values tend to be concentrated on one side of the distribution, while the other side has a long tail. If the tail is longer on the positive side, it is referred to as a right-skewed or positive skewness. If the tail is longer on the negative side, it is referred to as a left-skewed or negative skewness.\n",
    "\n",
    "In practical terms, skewness affects the mean, median, and mode. When a distribution is skewed, the mean is generally shifted towards the direction of the long tail, and the median is generally a better measure of central tendency.\n",
    "\n",
    "For example, consider a dataset of income where most of the values are small but a few high-income outliers exist. In this case, the distribution would be right-skewed, with the tail extending to the right. This skewness would result in the mean income being higher than the median income, which is a more representative measure of central tendency for this dataset."
   ]
  },
  {
   "cell_type": "markdown",
   "id": "05bd885c-c5f8-4777-a181-359babb75aa7",
   "metadata": {},
   "source": [
    "# Q9. If a data is right skewed then what will be the position of median with respect to mean?"
   ]
  },
  {
   "cell_type": "markdown",
   "id": "f58a527d-1bf0-46ac-9a39-1ac975668050",
   "metadata": {},
   "source": [
    "If a data is right skewed, then the median will be less than the mean. This is because in a right-skewed distribution, the tail of the distribution is longer on the right-hand side, which pulls the mean towards the higher values, while the median is less affected by the extreme values in the tail. Therefore, the median tends to be closer to the bulk of the data, which is typically located on the left-hand side of the distribution."
   ]
  },
  {
   "cell_type": "markdown",
   "id": "8cfe560c-1c7f-4575-8727-783a65e9ffc9",
   "metadata": {},
   "source": [
    "# Q10. Explain the difference between covariance and correlation. How are these measures used in statistical analysis?"
   ]
  },
  {
   "cell_type": "markdown",
   "id": "f692358d-56cc-4aa1-9acb-6b1993eaa9be",
   "metadata": {},
   "source": [
    "Covariance and correlation are two measures of how variables are related to each other in a dataset. Both measures are used to describe the degree to which two variables tend to move together. However, there are some key differences between covariance and correlation.\n",
    "\n",
    "Covariance is a measure of the direction and strength of the linear relationship between two variables. It is calculated as the average of the product of the deviations of two variables from their respective means. Covariance can take on any value between negative infinity and positive infinity, and is measured in the units of the two variables. A positive covariance indicates a positive relationship, meaning that as one variable increases, the other variable tends to increase as well. A negative covariance indicates a negative relationship, meaning that as one variable increases, the other variable tends to decrease.\n",
    "\n",
    "Correlation, on the other hand, is a standardized measure of the linear relationship between two variables. It is calculated by dividing the covariance of two variables by the product of their standard deviations. Correlation ranges between -1 and 1, with a value of 1 indicating a perfect positive correlation, 0 indicating no correlation, and -1 indicating a perfect negative correlation. Correlation is unitless, meaning that it does not depend on the units of the variables.\n",
    "\n",
    "Both covariance and correlation are used in statistical analysis to study the relationship between two variables. Covariance is used in some calculations, such as the calculation of regression coefficients, while correlation is more commonly used because it is easier to interpret and compare. Correlation is used to identify relationships between variables, to test hypotheses about the strength of those relationships, and to make predictions about one variable based on the value of another. It is also used to measure the strength of association between variables in studies such as epidemiology, psychology, and social sciences."
   ]
  },
  {
   "cell_type": "markdown",
   "id": "107fa8ea-93ea-4945-b79e-ac418519ecf9",
   "metadata": {},
   "source": [
    "# Q11. What is the formula for calculating the sample mean? Provide an example calculation for a dataset."
   ]
  },
  {
   "cell_type": "markdown",
   "id": "94b23750-5c0d-406d-8168-c8dde0254f85",
   "metadata": {},
   "source": [
    "x̄ = (Σ xi) / n\n",
    "\n",
    "where x̄ is the sample mean, Σ xi is the sum of all the data points in the dataset, and n is the total number of data points in the dataset."
   ]
  },
  {
   "cell_type": "code",
   "execution_count": 2,
   "id": "a6c4bedf-d713-4441-a73a-f89903501b38",
   "metadata": {},
   "outputs": [
    {
     "data": {
      "text/plain": [
       "81.9"
      ]
     },
     "execution_count": 2,
     "metadata": {},
     "output_type": "execute_result"
    }
   ],
   "source": [
    "a = [75, 68, 82, 90, 77, 85, 92, 88, 79, 83]\n",
    "import numpy as np\n",
    "np.mean(a)"
   ]
  },
  {
   "cell_type": "markdown",
   "id": "9cd25ec5-8ea7-449b-992e-60cfce1d529a",
   "metadata": {},
   "source": [
    "# Q12. For a normal distribution data what is the relationship between its measure of central tendency?"
   ]
  },
  {
   "cell_type": "markdown",
   "id": "36591099-11da-4c32-9754-e98eff78453d",
   "metadata": {},
   "source": [
    "For a normal distribution data the relationship between mean, mode and median are equal."
   ]
  },
  {
   "cell_type": "markdown",
   "id": "92f281f5-202f-4ba3-9d2c-6325210dfcba",
   "metadata": {},
   "source": [
    "# Q13. How is covariance different from correlation?"
   ]
  },
  {
   "cell_type": "markdown",
   "id": "2151eab3-f332-415b-b6c2-eeee730d81f8",
   "metadata": {},
   "source": [
    "Covariance and correlation are two measures that describe the relationship between two variables. The main difference between them is that covariance measures the direction of the linear relationship between two variables, while correlation measures both the direction and strength of the linear relationship between two variables.\n",
    "\n",
    "Covariance can take on any value between negative infinity and positive infinity, with negative values indicating a negative relationship and positive values indicating a positive relationship. However, the magnitude of the covariance value is not standardized and therefore difficult to interpret.\n",
    "\n",
    "Correlation, on the other hand, takes on values between -1 and +1, with -1 indicating a perfect negative correlation, 0 indicating no correlation, and +1 indicating a perfect positive correlation. The magnitude of the correlation value indicates the strength of the linear relationship between the two variables, while the sign indicates the direction of the relationship.\n",
    "\n",
    "In summary, while covariance measures the direction of the linear relationship between two variables, correlation measures both the direction and strength of the linear relationship, and is therefore considered a more informative measure.\n"
   ]
  },
  {
   "cell_type": "markdown",
   "id": "fcb23933-9591-47f9-a7de-5109b14101c8",
   "metadata": {},
   "source": [
    "# Q14. How do outliers affect measures of central tendency and dispersion? Provide an example."
   ]
  },
  {
   "cell_type": "code",
   "execution_count": null,
   "id": "2fb21501-ca1b-40c8-8ec9-53600649d59a",
   "metadata": {},
   "outputs": [],
   "source": [
    "Outliers are extreme values that differ significantly from the other values in a dataset. They can have a significant impact on measures of central tendency and dispersion:\n",
    "\n",
    "Measures of central tendency: Outliers can greatly affect the mean, but have little effect on the median and mode. This is because the mean is sensitive to extreme values, and outliers can pull it towards the extreme end of the distribution. For example, consider a dataset of salaries for a company that looks like this:\n",
    "\n",
    "30,000, 35,000, 40,000, 45,000, 50,000, 55,000, 60,000, 75,000, 100,000\n",
    "\n",
    "The mean salary is (30,000+35,000+40,000+45,000+50,000+55,000+60,000+75,000+100,000) / 9 = 54,444. The outlier of 100,000 has pulled the mean towards the upper end of the distribution.\n",
    "\n",
    "Measures of dispersion: Outliers can greatly affect measures of dispersion such as range, variance, and standard deviation. For example, consider the same salary dataset as above. The range of salaries is 100,000 - 30,000 = 70,000. However, if we remove the outlier of 100,000, the range becomes 60,000 - 30,000 = 30,000. Similarly, the variance and standard deviation will be larger if the dataset includes an outlier.\n",
    "\n",
    "In summary, outliers can greatly affect measures of central tendency and dispersion, and it is important to identify and handle them appropriately in statistical analysis."
   ]
  }
 ],
 "metadata": {
  "kernelspec": {
   "display_name": "Python 3 (ipykernel)",
   "language": "python",
   "name": "python3"
  },
  "language_info": {
   "codemirror_mode": {
    "name": "ipython",
    "version": 3
   },
   "file_extension": ".py",
   "mimetype": "text/x-python",
   "name": "python",
   "nbconvert_exporter": "python",
   "pygments_lexer": "ipython3",
   "version": "3.10.8"
  }
 },
 "nbformat": 4,
 "nbformat_minor": 5
}
