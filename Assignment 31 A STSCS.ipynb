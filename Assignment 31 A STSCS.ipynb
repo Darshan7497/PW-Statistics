{
 "cells": [
  {
   "cell_type": "markdown",
   "id": "2f8525d4-0a4f-4fee-8b98-e895783bf127",
   "metadata": {},
   "source": [
    "# Q1. What is the Probability density function?"
   ]
  },
  {
   "cell_type": "markdown",
   "id": "65c9768e-da82-464a-8c84-0119d44d76e9",
   "metadata": {},
   "source": [
    "The probability density function (PDF) is a mathematical function that describes the relative likelihood of a continuous random variable taking on a particular value. It represents the probability distribution of a continuous random variable in a graphical or analytical way.\n",
    "\n",
    "The probability density function is defined as the derivative of the cumulative distribution function (CDF) of a continuous random variable. In other words, the PDF is the gradient of the CDF. The area under the PDF curve between two points on the x-axis represents the probability of the variable taking a value between those two points.\n",
    "\n",
    "The PDF is used in various statistical applications, including hypothesis testing, parameter estimation, and data modeling."
   ]
  },
  {
   "cell_type": "markdown",
   "id": "07dba0e5-03bc-4658-a19b-b4e2a931b302",
   "metadata": {},
   "source": [
    "# Q2. What are the types of Probability distribution?"
   ]
  },
  {
   "cell_type": "markdown",
   "id": "5267436c-d7e0-4805-86b5-19aa11742dd6",
   "metadata": {},
   "source": [
    "There are many types of probability distributions, but some of the most commonly used ones include:\n",
    "\n",
    "1.Binomial distribution\n",
    "\n",
    "2.Poisson distribution\n",
    "\n",
    "3.Normal distribution\n",
    "\n",
    "4.Uniform distribution\n",
    "\n",
    "5.Exponential distribution\n",
    "\n",
    "6.Gamma distribution\n",
    "\n",
    "7.Beta distribution\n",
    "\n",
    "8.Chi-square distribution\n",
    "\n",
    "9.Student's t-distribution\n",
    "\n",
    "10.F-distribution\n",
    "\n",
    "Each of these distributions has different properties and is used in different situations depending on the nature of the data and the problem being analyzed."
   ]
  },
  {
   "cell_type": "markdown",
   "id": "9fbd3920-7f34-4b65-a209-2855ab519b31",
   "metadata": {},
   "source": [
    "# Q3. Write a Python function to calculate the probability density function of a normal distribution with given mean and standard deviation at a given point."
   ]
  },
  {
   "cell_type": "code",
   "execution_count": 1,
   "id": "736f5c7b-9fee-43cd-9fe7-fb18090a09de",
   "metadata": {},
   "outputs": [
    {
     "name": "stdout",
     "output_type": "stream",
     "text": [
      "0.05399096651318806\n"
     ]
    }
   ],
   "source": [
    "import math\n",
    "\n",
    "def normal_pdf(x, mu, sigma):\n",
    "    \"\"\"\n",
    "    Calculates the probability density function of a normal distribution with mean mu and standard deviation sigma at the point x.\n",
    "    \"\"\"\n",
    "    exponent = -0.5 * ((x - mu) / sigma) ** 2\n",
    "    coefficient = 1 / (sigma * math.sqrt(2 * math.pi))\n",
    "    return coefficient * math.exp(exponent)\n",
    "\n",
    "pdf_value = normal_pdf(x=2, mu=0, sigma=1)\n",
    "print(pdf_value)"
   ]
  },
  {
   "cell_type": "markdown",
   "id": "04de35e0-371d-4520-816c-2d2927002ab0",
   "metadata": {},
   "source": [
    "# Q4. What are the properties of Binomial distribution? Give two examples of events where binomial distribution can be applied."
   ]
  },
  {
   "cell_type": "markdown",
   "id": "dc617b0b-0031-4209-8dc0-a8e2d0e53355",
   "metadata": {},
   "source": [
    "The binomial distribution is a discrete probability distribution that describes the probability of a fixed number of successes in a fixed number of independent Bernoulli trials, where each trial has the same probability of success.\n",
    "\n",
    "The properties of the binomial distribution are:\n",
    "\n",
    "Fixed number of trials: The number of trials is fixed and denoted by n. Independent trials: Each trial is independent of the others. Two possible outcomes: Each trial has only two possible outcomes, success or failure. Constant probability of success: The probability of success, denoted by p, is constant for all trials. Discrete values: The number of successes, denoted by k, is a discrete variable that takes values from 0 to n. Two examples of events where binomial distribution can be applied are:\n",
    "\n",
    "Tossing a Coin: When tossing a fair coin, there are two possible outcomes - heads or tails - with a fixed probability of 0.5 for each outcome. If we toss the coin n times and want to know the probability of getting k heads, we can model this as a binomial distribution with n trials, a probability of success of 0.5, and the number of successes k.\n",
    "\n",
    "Manufacturing Defects: A company manufactures electronic components that have a defect rate of 2%. If we randomly sample n components from the production line and want to know the probability that k of them are defective, we can model this as a binomial distribution with n trials, a probability of success of 0.02 (the probability of a component being defective), and the number of successes k.\n",
    "\n",
    "In both of these examples, the binomial distribution allows us to model the probability of a fixed number of successes in a fixed number of independent trials, where each trial has the same probability of success."
   ]
  },
  {
   "cell_type": "markdown",
   "id": "00f9f551-e978-400c-8b23-d4d8133ed53f",
   "metadata": {},
   "source": [
    "# Q5. Generate a random sample of size 1000 from a binomial distribution with probability of success 0.4 and plot a histogram of the results using matplotlib."
   ]
  },
  {
   "cell_type": "code",
   "execution_count": 2,
   "id": "c7745a04-b75d-4a44-b472-fcd3a98a736f",
   "metadata": {},
   "outputs": [
    {
     "data": {
      "image/png": "[encoded data removed]",
      "text/plain": [
       "<Figure size 640x480 with 1 Axes>"
      ]
     },
     "metadata": {},
     "output_type": "display_data"
    }
   ],
   "source": [
    "import numpy as np\n",
    "import matplotlib.pyplot as plt\n",
    "\n",
    "# Set the parameters of the binomial distribution\n",
    "n = 10\n",
    "p = 0.4\n",
    "\n",
    "# Generate a random sample of size 1000 from the binomial distribution\n",
    "sample = np.random.binomial(n, p, size=1000)\n",
    "\n",
    "# Plot a histogram of the results\n",
    "plt.hist(sample, bins=range(n+1), align='left', rwidth=0.8)\n",
    "plt.xticks(range(n))\n",
    "plt.xlabel('Number of Successes')\n",
    "plt.ylabel('Frequency')\n",
    "plt.title('Histogram of Binomial Distribution (n={}, p={})'.format(n, p))\n",
    "plt.show()"
   ]
  },
  {
   "cell_type": "markdown",
   "id": "c0d618bd-4b2b-424f-b4e0-1ceb95e05e49",
   "metadata": {},
   "source": [
    "# Q6. Write a Python function to calculate the cumulative distribution function of a Poisson distribution with given mean at a given point."
   ]
  },
  {
   "cell_type": "code",
   "execution_count": 3,
   "id": "f5fac243-abdf-4b00-985a-1f298393e2e4",
   "metadata": {},
   "outputs": [
    {
     "name": "stdout",
     "output_type": "stream",
     "text": [
      "The cumulative distribution function of a Poisson distribution with mean 2.5 at point 3 is 0.7576\n"
     ]
    }
   ],
   "source": [
    "import math\n",
    "\n",
    "def poisson_cdf(mu, k):\n",
    "    cdf = 0.0\n",
    "    for i in range(k+1):\n",
    "        cdf += math.exp(-mu) * (mu ** i) / math.factorial(i)\n",
    "    return cdf\n",
    "mu = 2.5\n",
    "k = 3\n",
    "cdf = poisson_cdf(mu, k)\n",
    "print(\"The cumulative distribution function of a Poisson distribution with mean {} at point {} is {:.4f}\".format(mu, k, cdf))"
   ]
  },
  {
   "cell_type": "markdown",
   "id": "59a065be-e2eb-43bb-9a41-272c75698784",
   "metadata": {},
   "source": [
    "# Q7. How Binomial distribution different from Poisson distribution?"
   ]
  },
  {
   "cell_type": "markdown",
   "id": "20d2bfe8-27d3-411a-869e-c6e989ede403",
   "metadata": {},
   "source": [
    "Binomial distribution and Poisson distribution are both discrete probability distributions that describe the number of events that occur in a given number of trials. However, there are some key differences between the two distributions.\n",
    "\n",
    "1>Parameters: The Binomial distribution is characterized by two parameters: the number of trials n and the probability of success p. In contrast, the Poisson distribution is characterized by one parameter: the average rate λ at which events occur.\n",
    "\n",
    "2>Application: The Binomial distribution is used to model the number of successes in a fixed number of independent trials, where the probability of success is constant across all trials. The Poisson distribution, on the other hand, is used to model the number of rare events that occur over a fixed interval of time or space.\n",
    "\n",
    "3>Shape: The shape of the Binomial distribution is symmetric when p = 0.5, and becomes increasingly skewed as p approaches 0 or 1. In contrast, the Poisson distribution is typically skewed to the right, and becomes more symmetric as the rate parameter λ increases.\n",
    "\n",
    "4>Limitations: The Binomial distribution is appropriate when the number of trials n is large and the probability of success p is small, but the mean np is not too small. The Poisson distribution is appropriate when the rate parameter λ is small, but the product of the rate and the observation time or space is moderate to large."
   ]
  },
  {
   "cell_type": "markdown",
   "id": "3027ac59-57a9-4f0e-9a6b-77059c3fa5e6",
   "metadata": {},
   "source": [
    "# Q8. Generate a random sample of size 1000 from a Poisson distribution with mean 5 and calculate the sample mean and variance."
   ]
  },
  {
   "cell_type": "code",
   "execution_count": 5,
   "id": "621e8c12-595e-42f7-946f-55ba6c2ef6ff",
   "metadata": {},
   "outputs": [
    {
     "name": "stdout",
     "output_type": "stream",
     "text": [
      "Sample mean: 4.9190\n",
      "Sample variance: 5.0304\n"
     ]
    }
   ],
   "source": [
    "import numpy as np\n",
    "\n",
    "# Set the random seed for reproducibility\n",
    "np.random.seed(123)\n",
    "\n",
    "# Generate a random sample of size 1000 from a Poisson distribution with mean 5\n",
    "sample = np.random.poisson(5, size=1000)\n",
    "\n",
    "# Calculate the sample mean and variance\n",
    "mean = np.mean(sample)\n",
    "variance = np.var(sample)\n",
    "\n",
    "print(\"Sample mean: {:.4f}\".format(mean))\n",
    "print(\"Sample variance: {:.4f}\".format(variance))"
   ]
  },
  {
   "cell_type": "markdown",
   "id": "16ff1f42-96cd-4e8d-a875-29f38f7c8dc3",
   "metadata": {},
   "source": [
    "# Q9. How mean and variance are related in Binomial distribution and Poisson distribution?"
   ]
  },
  {
   "cell_type": "code",
   "execution_count": 6,
   "id": "47329bdf-5c5d-4edb-9cfd-8f1b41b34045",
   "metadata": {},
   "outputs": [
    {
     "ename": "SyntaxError",
     "evalue": "invalid syntax (99945222.py, line 1)",
     "output_type": "error",
     "traceback": [
      "\u001b[0;36m  Cell \u001b[0;32mIn[6], line 1\u001b[0;36m\u001b[0m\n\u001b[0;31m    In both the Binomial and Poisson distributions, the mean and variance are related in a similar way.\u001b[0m\n\u001b[0m       ^\u001b[0m\n\u001b[0;31mSyntaxError\u001b[0m\u001b[0;31m:\u001b[0m invalid syntax\n"
     ]
    }
   ],
   "source": [
    "In both the Binomial and Poisson distributions, the mean and variance are related in a similar way.\n",
    "\n",
    "For the Binomial distribution with parameters n and p, the mean is given by μ = np and the variance is given by σ^2 = np(1-p). Thus, the variance is a function of both the number of trials n and the probability of success p. As p gets closer to 0 or 1, the variance decreases, reflecting the fact that the distribution becomes increasingly concentrated around the mean.\n",
    "\n",
    "For the Poisson distribution with parameter λ, the mean is also given by μ = λ and the variance is also given by σ^2 = λ. Thus, the variance is a function of the rate parameter λ. As λ increases, the variance also increases, reflecting the fact that the distribution becomes more spread out around the mean.\n",
    "\n",
    "In both distributions, when the mean is large, the variance is also large, indicating that the distribution is more spread out. Conversely, when the mean is small, the variance is also small, indicating that the distribution is more tightly clustered around the mean.\n",
    "\n",
    "In summary, for both the Binomial and Poisson distributions, the variance is related to the mean in a way that reflects the degree of spread or concentration of the distribution."
   ]
  },
  {
   "cell_type": "code",
   "execution_count": null,
   "id": "261feb73-dad8-46e1-a5a2-28e0ce34593b",
   "metadata": {},
   "outputs": [],
   "source": []
  }
 ],
 "metadata": {
  "kernelspec": {
   "display_name": "Python 3 (ipykernel)",
   "language": "python",
   "name": "python3"
  },
  "language_info": {
   "codemirror_mode": {
    "name": "ipython",
    "version": 3
   },
   "file_extension": ".py",
   "mimetype": "text/x-python",
   "name": "python",
   "nbconvert_exporter": "python",
   "pygments_lexer": "ipython3",
   "version": "3.10.8"
  }
 },
 "nbformat": 4,
 "nbformat_minor": 5
}
