{
 "cells": [
  {
   "cell_type": "markdown",
   "id": "53362b2c-13f2-4f88-b99a-070b6048065d",
   "metadata": {},
   "source": [
    "# Q1: What is the difference between a t-test and a z-test? Provide an example scenario where you would use each type of test."
   ]
  },
  {
   "cell_type": "markdown",
   "id": "b0dab54a-e23e-4fc5-8906-5654935c8c44",
   "metadata": {},
   "source": [
    "A t-test and a z-test are both statistical tests used to determine whether a sample mean is significantly different from a hypothesized population mean. However, they differ in their assumptions about the underlying population distribution and the sample size z-test: When we have population std information is present and sample size more than 30 we can perform z-test with help of z-table Degree of freedom is not required. Example: Suppose you have a large sample size (e.g., n > 30) and you want to test whether the mean weight of a certain type of fruit is significantly different from a hypothesized population mean. In this case, you could use a z-test because the sample size is large and the population distribution is assumed to be normal.\n",
    "\n",
    "t-test When sample size is less than 30 When population std is not availible we need prform t- test dof is needed to calculate Example: Suppose you have a small sample size (e.g., n < 30) and you want to test whether a new drug has a significantly different effect on blood pressure compared to a placebo. In this case, you could use a t-test because the sample size is small and the population distribution is unknown."
   ]
  },
  {
   "cell_type": "markdown",
   "id": "a55fffe3-5d35-4466-96ee-fbc9016cb1d0",
   "metadata": {},
   "source": [
    "# Q2: Differentiate between one-tailed and two-tailed tests."
   ]
  },
  {
   "cell_type": "markdown",
   "id": "e35e65c3-889e-4290-9a93-e22439403a2e",
   "metadata": {},
   "source": [
    "A one-tailed test: A one-tailed test is used when the alternative hypothesis specifies the direction of the difference or relationship between the population parameter and the null hypothesis. It is also known as a directional test. For example, suppose we want to test whether a new drug has a higher effciency rate than the current standard treatment. The one-tailed alternative hypothesis would be that the effciency rate of the new drug is greater than the effciency rate of the standard treatment. In this case, we would use a one-tailed test and calculate the p-value for the upper tail of the distribution. A two-tailed test : A two-tailed test is used when the alternative hypothesis does not specify the direction of the difference or relationship between the population parameter and the null hypothesis. It is also known as a non-directional test. For example, suppose we want to test whether there is a significant difference in weight between two groups of people. The two-tailed alternative hypothesis would be that the weight of the two groups is different. In this case, we would use a two-tailed test and calculate the p-value for both tails of the distribution."
   ]
  },
  {
   "cell_type": "markdown",
   "id": "ea640e02-9663-4953-883a-3c57eeafff59",
   "metadata": {},
   "source": [
    "# Q3: Explain the concept of Type 1 and Type 2 errors in hypothesis testing. Provide an example scenario for each type of error."
   ]
  },
  {
   "cell_type": "markdown",
   "id": "5def99f9-dd0e-4764-b595-7c105e8940ab",
   "metadata": {},
   "source": [
    "(i) Type 1 error Type 1 error occurs when we reject the null hypothesis when it is actually true. This means that we conclude that there is a significant effect or difference when there isn't one in reality. The probability of making a Type 1 error is denoted by the Greek letter alpha (α), and it is typically set to a small value (e.g., 0.05 or 0.01) as the maximum allowable probability of making such an error. Example: An example scenario for a Type 1 error is when a medical researcher concludes that a new drug is effective in treating a disease when in fact it is not. This could lead to the drug being prescribed to patients unnecessarily, resulting in potential harm and increased healthcare costs.\n",
    "\n",
    "(ii) Type 2 error Type 2 error occurs when we fail to reject the null hypothesis when it is actually false. This means that we fail to detect a significant effect or difference when there is one in reality. The probability of making a Type 2 error is denoted by the Greek letter beta (β), and it is affected by factors such as sample size, effect size, and significance level. Example: An example scenario for a Type 2 error is when a medical researcher fails to detect a significant difference in blood pressure between a new drug and a placebo, when in fact there is a difference. This could lead to the drug not being approved or prescribed to patients who could benefit from it, resulting in missed opportunities for better treatment."
   ]
  },
  {
   "cell_type": "markdown",
   "id": "83285347-8ef9-48a4-8c3f-b7d979e2e331",
   "metadata": {},
   "source": [
    "# Q4: Explain Bayes's theorem with an example."
   ]
  },
  {
   "cell_type": "markdown",
   "id": "bcf504cf-db9f-4f67-b849-dd7f63703cb2",
   "metadata": {},
   "source": [
    "It is an stats probability function explains the conditional probability formula pr(A / B)= [ { pr( A ) * pr( B / A ) } /pr( B ) ]\n",
    "\n",
    "where P(A|B) is the posterior probability of A given B, P(B|A) is the likelihood of B given A, P(A) is the prior probability of A, and P(B) is the prior probability of B.\n",
    "\n",
    "Suppose a factory produces two types of widgets: Type A and Type B. Type A widgets make up 60% of the production and are of high quality 95% of the time, while Type B widgets make up the remaining 40% and are of high quality only 70% of the time. A widget is randomly selected from the production line and found to be of high quality. What is the probability that it is a Type A widget?\n",
    "\n",
    "Let A denote the event that the selected widget is Type A, and B denote the event that the widget is of high quality. Then we want to calculate P(A|B), the probability that the widget is Type A given that it is of high quality.\n",
    "\n",
    "We can use Bayes's theorem to compute this probability as follows:\n",
    "\n",
    "P(A|B) = P(B|A) * P(A) / P(B)\n",
    "\n",
    "where P(B|A) = 0.95 is the likelihood of high quality given Type A, P(A) = 0.6 is the prior probability of Type A, and P(B) = 0.60.95 + 0.40.7 = 0.845 is the total probability of high quality.\n",
    "\n",
    "Plugging in the values, we get:\n",
    "\n",
    "P(A|B) = 0.95 * 0.6 / 0.845 ≈ 0.67\n",
    "\n",
    "So the probability that the selected widget is Type A given that it is of high quality is about 0.67 or 67%. This means that there is a higher probability that the widget is of Type A than Type B, even though Type A makes up only 60% of the production.\n",
    "\n",
    "In this example, Bayes's theorem helped us update our prior belief about the probability of the widget being of Type A based on the new evidence of it being of high quality."
   ]
  },
  {
   "cell_type": "markdown",
   "id": "5424f3ea-eab4-4978-830b-c25fca7f2913",
   "metadata": {},
   "source": [
    "# Q5: What is a confidence interval? How to calculate the confidence interval, explain with an example."
   ]
  },
  {
   "cell_type": "markdown",
   "id": "f2b05f6a-6a3e-4fbe-8911-54bb2342b805",
   "metadata": {},
   "source": [
    "A confidence interval is a statistical range that provides an estimated range of values that is likely to contain a population parameter (such as a mean or proportion) with a certain level of confidence. It is typically used in inferential statistics to estimate the precision and accuracy of a sample statistic (such as a sample mean) as an estimate of an unknown population parameter.\n",
    "\n",
    "The confidence interval is calculated by using the sample data and the standard error of the sample mean or proportion, along with a chosen level of confidence. The standard error is a measure of the variability of the sample statistic, and the level of confidence is typically expressed as a percentage (e.g., 95% confidence interval).\n",
    "\n",
    "Here's an example to illustrate how to calculate a confidence interval:\n",
    "\n",
    "Suppose we are interested in estimating the average height of all male students in a college. We collect a random sample of 50 male students and measure their heights. The sample mean height is 70 inches, with a standard deviation of 2.5 inches.\n",
    "\n",
    "To calculate the 95% confidence interval for the population mean height, we first determine the standard error of the mean (SEM) using the formula:\n",
    "\n",
    "SEM = standard deviation / square root of sample size\n",
    "\n",
    "In this case, the SEM is:\n",
    "\n",
    "SEM = 2.5 / sqrt(50) = 0.354 inches\n",
    "\n",
    "Next, we use a t-distribution table to find the critical value of t for a 95% confidence interval with 49 degrees of freedom (sample size minus one). The critical value is 2.009.\n",
    "\n",
    "Finally, we can calculate the confidence interval using the formula:\n",
    "\n",
    "CI = sample mean ± (critical value * SEM)\n",
    "\n",
    "Substituting the values, we get:\n",
    "\n",
    "CI = 70 ± (2.009 * 0.354) = (69.3, 70.7)\n",
    "\n",
    "Therefore, we can say with 95% confidence that the true population mean height of all male students in the college lies between 69.3 inches and 70.7 inches."
   ]
  },
  {
   "cell_type": "markdown",
   "id": "25f4c4d1-3e36-4b89-8a73-188e0df952e6",
   "metadata": {},
   "source": [
    "# Q6. Use Bayes' Theorem to calculate the probability of an event occurring given prior knowledge of the event's probability and new evidence. Provide a sample problem and solution."
   ]
  },
  {
   "cell_type": "markdown",
   "id": "f96e609a-b6e5-4945-a55b-afc4b1c09ba2",
   "metadata": {},
   "source": [
    "Suppose there is a certain medical test that is 95% accurate for detecting a disease when it is present, and 90% accurate for ruling out the disease when it is not present. The disease affects 1% of the population. If a person tests positive for the disease, what is the probability that they actually have the disease?"
   ]
  },
  {
   "cell_type": "code",
   "execution_count": 1,
   "id": "3f86cf75-b62b-4cf0-a1c6-b3e218920117",
   "metadata": {},
   "outputs": [
    {
     "name": "stdout",
     "output_type": "stream",
     "text": [
      "The probability of having the disease given a positive test result is 0.0876\n"
     ]
    }
   ],
   "source": [
    "# Define the prior probability\n",
    "p_disease = 0.01\n",
    "\n",
    "# Define the sensitivity and specificity of the test\n",
    "sensitivity = 0.95\n",
    "specificity = 0.90\n",
    "\n",
    "# Define the probability of a positive test result given that the patient has the disease (true positive rate)\n",
    "p_pos_given_disease = sensitivity\n",
    "\n",
    "# Define the probability of a positive test result given that the patient does not have the disease (false positive rate)\n",
    "p_pos_given_no_disease = 1 - specificity\n",
    "\n",
    "# Use Bayes' Theorem to calculate the probability of having the disease given a positive test result\n",
    "p_pos = p_pos_given_disease * p_disease + p_pos_given_no_disease * (1 - p_disease)\n",
    "p_disease_given_pos = p_pos_given_disease * p_disease / p_pos\n",
    "\n",
    "# Print the result\n",
    "print(f\"The probability of having the disease given a positive test result is {p_disease_given_pos:.4f}\")"
   ]
  },
  {
   "cell_type": "markdown",
   "id": "0519d5d5-8d13-4234-bfb2-ccd603a06280",
   "metadata": {},
   "source": [
    "# Q7. Calculate the 95% confidence interval for a sample of data with a mean of 50 and a standard deviation of 5. Interpret the results."
   ]
  },
  {
   "cell_type": "markdown",
   "id": "3f9c5834-7f60-4776-b820-9dad3a3d6a7e",
   "metadata": {},
   "source": [
    "To calculate the 95% confidence interval for a sample of data with a mean of 50 and a standard deviation of 5, we need to use the formula:\n",
    "\n",
    "CI = X̄ ± (Zα/2 * σ/√n)\n",
    "\n",
    "where:\n",
    "\n",
    "X̄ is the sample mean (which is 50) Zα/2 is the critical value from the standard normal distribution for a 95% confidence level (which is 1.96) σ is the population standard deviation (which is 5) n is the sample size (which is not given in the question) Without knowing the sample size, we cannot calculate the confidence interval. However, we can still interpret the results if we assume a certain sample size.\n",
    "\n",
    "For example, if the sample size is 100, then the 95% confidence interval would be:\n",
    "\n",
    "CI = 50 ± (1.96 * 5/√100) = (48.02, 51.98)\n",
    "\n",
    "This means that we are 95% confident that the true population mean falls between 48.02 and 51.98. In other words, if we repeated the sampling process many times and calculated the 95% confidence interval each time, we would expect the true population mean to be within this interval 95% of the time.\n",
    "\n",
    "It is important to note that the confidence interval only applies to the population mean and not to individual values within the sample. Also, the interpretation of the confidence interval assumes that the sample is representative of the population and that the data follows a normal distribution."
   ]
  },
  {
   "cell_type": "markdown",
   "id": "825e7fc7-8723-4e7d-ae14-00b670d6d420",
   "metadata": {},
   "source": [
    "# Q8. What is the margin of error in a confidence interval? How does sample size affect the margin of error? Provide an example of a scenario where a larger sample size would result in a smaller margin of error."
   ]
  },
  {
   "cell_type": "markdown",
   "id": "847c8ae7-ff09-4c24-89b7-ac011265db67",
   "metadata": {},
   "source": [
    "The margin of error in a confidence interval is the range of values above and below the point estimate that is likely to contain the true population parameter with a certain level of confidence. It is a measure of the precision or accuracy of the estimate.\n",
    "\n",
    "How does sample size affect the margin of error? The margin of error is affected by several factors, including the level of confidence, sample size, and population variability. As the sample size increases, the margin of error decreases, holding all other factors constant. This is because a larger sample size reduces the sampling error, which is the error that arises due to the random variation in the selection of the sample from the population. larger sample size would result in a smaller margin of error.\n",
    "\n",
    "For example, suppose a pollster wants to estimate the proportion of adults in a city who support a particular policy change with 95% confidence and a margin of error of 3%. If the sample size is 400, the margin of error would be around 3.0 percentage points. However, if the sample size is increased to 1600, the margin of error would decrease to around 1.5 percentage points, assuming all other factors remain constant. This means that the larger sample size provides a more precise estimate of the population parameter, and the interval around the point estimate is narrower.\n",
    "\n",
    "In general, larger sample sizes result in smaller margins of error, which increase the precision and reliability of the estimates. However, increasing the sample size also increases the cost and complexity of the study, so researchers need to balance the desired level of precision with practical constraints."
   ]
  },
  {
   "cell_type": "markdown",
   "id": "a42f6f5e-9e3b-4fc7-b525-c6afa77c9251",
   "metadata": {},
   "source": [
    "# Q9. Calculate the z-score for a data point with a value of 75, a population mean of 70, and a population standard deviation of 5. Interpret the results."
   ]
  },
  {
   "cell_type": "code",
   "execution_count": 2,
   "id": "31f22001-beab-4833-94b8-266db21e8e0c",
   "metadata": {},
   "outputs": [
    {
     "name": "stdout",
     "output_type": "stream",
     "text": [
      "The z-score for the data point is: 1.0\n"
     ]
    }
   ],
   "source": [
    "# Importing the required libraries\n",
    "from scipy import stats\n",
    "\n",
    "# Defining the values\n",
    "x = 75 # Data point value\n",
    "mu = 70 # Population mean\n",
    "sigma = 5 # Population standard deviation\n",
    "\n",
    "# Calculating the z-score\n",
    "z = (x - mu) / sigma\n",
    "\n",
    "# Printing the z-score\n",
    "print(\"The z-score for the data point is:\", z)"
   ]
  },
  {
   "cell_type": "markdown",
   "id": "c9e03d57-4870-43af-a045-f1ea374aa1ec",
   "metadata": {},
   "source": [
    "# Q10. In a study of the effectiveness of a new weight loss drug, a sample of 50 participants lost an average of 6 pounds with a standard deviation of 2.5 pounds. Conduct a hypothesis test to determine if the drug is significantly effective at a 95% confidence level using a t-test."
   ]
  },
  {
   "cell_type": "markdown",
   "id": "90934c98-cd0c-49b7-abc4-0015b027569d",
   "metadata": {},
   "source": [
    "Null hypothesis: The weight loss drug is not significantly effective, and the true population mean weight loss is equal to or less than 0 pounds. H0: μ <= 0\n",
    "\n",
    "Alternative hypothesis: The weight loss drug is significantly effective, and the true population mean weight loss is greater than 0 pounds. Ha: μ > 0\n",
    "\n",
    "We will use a one-sample t-test since we have one sample mean and want to compare it to a population mean. The test statistic can be calculated as follows:\n",
    "\n",
    "t = (x̄ - μ) / (s / sqrt(n))\n",
    "\n",
    "where x̄ is the sample mean, μ is the population mean (in this case, μ = 0), s is the sample standard deviation, and n is the sample size.\n",
    "\n",
    "Substituting the given values, we get:\n",
    "\n",
    "t = (6 - 0) / (2.5 / sqrt(50))\n",
    "\n",
    "t = 12.0\n",
    "\n",
    "The degrees of freedom for the t-test are n - 1 = 49 (since we have 50 participants in the sample).\n",
    "\n",
    "Using a t-table or a t-distribution calculator with 49 degrees of freedom, we can find the critical t-value for a one-tailed test at a 95% confidence level. The critical t-value is approximately 1.677.\n",
    "\n",
    "Since our calculated t-value of 12.0 is greater than the critical t-value of 1.677, we reject the null hypothesis and conclude that the weight loss drug is significantly effective at a 95% confidence level.\n",
    "\n",
    "Therefore, we can conclude that the sample provides strong evidence that the weight loss drug is effective in reducing weight in patients."
   ]
  },
  {
   "cell_type": "markdown",
   "id": "c235d4ce-9956-4213-a2f8-c67a4840163a",
   "metadata": {},
   "source": [
    "# Q11. In a survey of 500 people, 65% reported being satisfied with their current job. Calculate the 95% confidence interval for the true proportion of people who are satisfied with their job."
   ]
  },
  {
   "cell_type": "markdown",
   "id": "52530300-97d1-40f8-8d9b-1a6cf1da7fb4",
   "metadata": {},
   "source": [
    "To calculate the 95% confidence interval for the true proportion of people who are satisfied with their job, we can use the following formula:\n",
    "\n",
    "Confidence interval = sample proportion ± z-score * standard error\n",
    "\n",
    "where:\n",
    "\n",
    "sample proportion is the proportion of people in the sample who reported being satisfied with their job (p-hat): 65% or 0.65\n",
    "\n",
    "z-score is the critical value for the desired confidence level: for a 95% confidence level, the z-score is approximately 1.96\n",
    "\n",
    "standard error is the standard deviation of the sampling distribution of the sample proportion, which can be calculated as:\n",
    "\n",
    "standard error = sqrt((p-hat * (1 - p-hat)) / n)\n",
    "\n",
    "where n is the sample size.\n",
    "\n",
    "Substituting the given values, we get:\n",
    "\n",
    "standard error = sqrt((0.65 * (1 - 0.65)) / 500) = 0.025\n",
    "\n",
    "The 95% confidence interval can be calculated as follows:\n",
    "\n",
    "Confidence interval = 0.65 ± 1.96 * 0.025 Confidence interval = (0.601, 0.699)\n",
    "\n",
    "Therefore, we can say with 95% confidence that the true proportion of people who are satisfied with their job falls within the range of 60.1% to 69.9%."
   ]
  },
  {
   "cell_type": "markdown",
   "id": "f1676820-9e34-4e44-b394-8170e921f632",
   "metadata": {},
   "source": [
    "# Q12. A researcher is testing the effectiveness of two different teaching methods on student performance. Sample A has a mean score of 85 with a standard deviation of 6, while sample B has a mean score of 82 with a standard deviation of 5. Conduct a hypothesis test to determine if the two teaching methods have a significant difference in student performance using a t-test with a significance level of 0.01."
   ]
  },
  {
   "cell_type": "markdown",
   "id": "71069db4-e012-4882-8f0e-51ab9b778337",
   "metadata": {},
   "source": [
    "o conduct a hypothesis test to determine if the two teaching methods have a significant difference in student performance, we need to perform the following steps:\n",
    "\n",
    "Step 1: State the null and alternative hypotheses.\n",
    "\n",
    "Null hypothesis (H0): The mean score of sample A is equal to the mean score of sample B. Alternative hypothesis (HA): The mean score of sample A is not equal to the mean score of sample B. Step 2: Determine the level of significance (α) and the test statistic.\n",
    "\n",
    "Level of significance: α = 0.01 Test statistic: We will use the two-sample t-test since we are comparing the means of two independent samples. The formula for the test statistic is: t = (x̄1 - x̄2) / sqrt(s1^2/n1 + s2^2/n2)\n",
    "\n",
    "where:\n",
    "\n",
    "x̄1 and x̄2 are the sample means for sample A and sample B, respectively. s1 and s2 are the sample standard deviations for sample A and sample B, respectively. n1 and n2 are the sample sizes for sample A and sample B, respectively. Substituting the given values, we get:\n",
    "\n",
    "t = (85 - 82) / sqrt((6^2/100) + (5^2/100))\n",
    "\n",
    "t = 3 / sqrt(0.0036 + 0.0025)\n",
    "\n",
    "t = 3 / 0.077\n",
    "\n",
    "t = 38.96\n",
    "\n",
    "Step 3: Determine the critical value.\n",
    "\n",
    "We need to determine the critical value from the t-distribution table with n1 + n2 - 2 degrees of freedom and a significance level of 0.01. For n1 = 100 and n2 = 100, the degrees of freedom is 198. The critical value for a two-tailed test at α = 0.01 with 198 degrees of freedom is approximately ± 2.58.\n",
    "\n",
    "Step 4: Compare the test statistic with the critical value.\n",
    "\n",
    "Since the absolute value of the test statistic (38.96) is greater than the critical value (2.58), we reject the null hypothesis. This means that we can conclude that there is a significant difference in student performance between the two teaching methods.\n",
    "\n",
    "Step 5: Interpret the results.\n",
    "\n",
    "Based on the results of the hypothesis test, we can conclude that there is a significant difference in student performance between the two teaching methods at a significance level of 0.01. We can infer that one teaching method is better than the other, but we cannot determine which one without further investigation or analysis."
   ]
  },
  {
   "cell_type": "markdown",
   "id": "278fbacb-fd93-4b54-9a8a-93f27a0e31d1",
   "metadata": {},
   "source": [
    "# Q13. A population has a mean of 60 and a standard deviation of 8. A sample of 50 observations has a mean of 65. Calculate the 90% confidence interval for the true population mean."
   ]
  },
  {
   "cell_type": "markdown",
   "id": "6199b813-16b8-4fcd-96bd-34c162497b4a",
   "metadata": {},
   "source": [
    "To calculate the 90% confidence interval for the true population mean, we can use the following formula:\n",
    "\n",
    "CI = X̄ ± z*(σ/√n)\n",
    "\n",
    "Where: X̄ = sample mean (65) z = the z-score for the desired confidence level (1.645 for 90% confidence level) σ = population standard deviation (8) n = sample size (50)\n",
    "\n",
    "Plugging in the values, we get:\n",
    "\n",
    "CI = 65 ± 1.645*(8/√50) CI = 65 ± 2.308 CI = (62.692, 67.308)\n",
    "\n",
    "Therefore, we can say with 90% confidence that the true population mean lies between 62.692 and 67.308."
   ]
  },
  {
   "cell_type": "markdown",
   "id": "bbd333fd-6b61-45b0-82d1-f24821372aa2",
   "metadata": {},
   "source": [
    "# Q14. In a study of the effects of caffeine on reaction time, a sample of 30 participants had an average reaction time of 0.25 seconds with a standard deviation of 0.05 seconds. Conduct a hypothesis test to determine if the caffeine has a significant effect on reaction time at a 90% confidence level using a t-test."
   ]
  },
  {
   "cell_type": "markdown",
   "id": "f1a73d56-07bc-41d3-a86d-7fb42a2a6f90",
   "metadata": {},
   "source": [
    "To conduct a hypothesis test to determine if caffeine has a significant effect on reaction time at a 90% confidence level using a t-test, we need to set up our null and alternative hypotheses:\n",
    "\n",
    "Null hypothesis: The caffeine has no significant effect on reaction time (μ = 0.25) Alternative hypothesis: The caffeine has a significant effect on reaction time (μ ≠ 0.25)\n",
    "\n",
    "We will use a two-tailed t-test since we want to test for a significant difference in either direction from the hypothesized population mean.\n",
    "\n",
    "The test statistic can be calculated using the following formula:\n",
    "\n",
    "t = (X̄ - μ) / (s / √n)\n",
    "\n",
    "Where: X̄ = sample mean (0.25) μ = hypothesized population mean (0.25) s = sample standard deviation (0.05) n = sample size (30)\n",
    "\n",
    "Plugging in the values, we get:\n",
    "\n",
    "t = (0.25 - 0.25) / (0.05 / √30) t = 0 / 0.009146\n",
    "\n",
    "The t-value is 0, which means there is no difference between the sample mean and the hypothesized population mean.\n",
    "\n",
    "Next, we need to find the critical t-value for a two-tailed test with a significance level of 0.10 and 29 degrees of freedom. We can use a t-distribution table or a calculator to find the critical value, which is approximately ±1.699.\n",
    "\n",
    "Since our calculated t-value of 0 falls within the range of -1.699 to +1.699, we fail to reject the null hypothesis. This means we do not have sufficient evidence to conclude that caffeine has a significant effect on reaction time at a 90% confidence level."
   ]
  }
 ],
 "metadata": {
  "kernelspec": {
   "display_name": "Python 3 (ipykernel)",
   "language": "python",
   "name": "python3"
  },
  "language_info": {
   "codemirror_mode": {
    "name": "ipython",
    "version": 3
   },
   "file_extension": ".py",
   "mimetype": "text/x-python",
   "name": "python",
   "nbconvert_exporter": "python",
   "pygments_lexer": "ipython3",
   "version": "3.10.8"
  }
 },
 "nbformat": 4,
 "nbformat_minor": 5
}
